{
 "cells": [
  {
   "cell_type": "markdown",
   "id": "f6b71f4d",
   "metadata": {},
   "source": [
    "# Phase 4 Project — NLP Sentiment on Apple vs Google Tweets\n",
    "_Group 1 Project — Moringa School_  \n",
    "\n",
    "\n",
    "---"
   ]
  },
  {
   "cell_type": "markdown",
   "id": "3e04d403",
   "metadata": {},
   "source": [
    "### Abstract\n",
    "\n",
    "This project applies Natural Language Processing (NLP) to analyze public sentiment on Apple and Google products using a dataset of approximately 9,000 tweets collected by CrowdFlower and hosted on data.world. Each tweet is human‑labeled as **positive**, **negative**, or **neutral**, making it well‑suited for a supervised sentiment classification task. Our stakeholder is a technology market research team seeking actionable insights into how consumers perceive competing products in real time. Accurate sentiment classification allows the team to monitor brand perception, identify reputational risks, and adapt communication strategies quickly.\n",
    "\n",
<<<<<<< HEAD
    "Data preparation addressed the short, noisy nature of tweets. We removed links and @mentions, normalized casing, preserved meaningful hashtag words, and stripped punctuation and HTML artifacts. We experimented with keeping vs. removing stopwords to gauge impact on sentiment detection. Feature extraction included **TF‑IDF** (Time frequency - Invated D Frequency) n‑grams for baseline models . Key libraries: **scikit‑learn** (modeling & evaluation), **NLTK** (cleaning), and **Hugging Face Transformers** (advanced modeling).\n",
    "\n",
    "We followed an iterative strategy. First, a **binary proof‑of‑concept** (positive vs. negative) using Logistic Regression and Multinomial Naive Bayes demonstrated feasibility. Next, we expanded to **multiclass** (positive, neutral, negative) and tuned a **TF‑IDF + LinearSVC**, (is a Support Vector Machine (SVM) classifier in scikit-learn that is specifically designed for linear classification.Unlike SVC(kernel=\"linear\"), which uses the generic SVM implementation, LinearSVC is optimized for large datasets and high-dimensional data (like text features from TF-IDF).)\n",
    "\n",
    " pipeline with cross‑validation optimized for macro‑F1. Finally, we included an optional DistilBERT template to indicate a path for future accuracy gains.\n",
=======
    "Data preparation addressed the short, noisy nature of tweets. We removed links and @mentions, normalized casing, preserved meaningful hashtag words, and stripped punctuation and HTML artifacts. We experimented with keeping vs. removing stopwords to gauge impact on sentiment detection. Feature extraction included **TF‑IDF** n‑grams for baseline models. Key libraries: **scikit‑learn** (modeling & evaluation), **NLTK** (cleaning), and **Hugging Face Transformers** (advanced modeling).\n",
    "\n",
    "We followed an iterative strategy. First, a **binary proof‑of‑concept** (positive vs. negative) using Logistic Regression and Multinomial Naive Bayes demonstrated feasibility. Next, we expanded to **multiclass** (positive, neutral, negative) and tuned a **TF‑IDF + LinearSVC** pipeline with cross‑validation optimized for macro‑F1.\n",
>>>>>>> 67e4966c04ef071f453d894a03da8a48dc4df3cf
    "\n",
    "Evaluation used stratified train/validation/test splits. We reported accuracy, precision, recall, **macro‑F1**, and confusion matrices to reflect balanced performance across classes. We added model interpretability via top n‑grams and optional **LIME** explanations for selected tweets. We conclude with stakeholder recommendations for brand monitoring, negative‑spike alerts, and campaign impact analysis."
   ]
  },
  {
   "cell_type": "markdown",
   "id": "95d56f8d",
   "metadata": {},
   "source": [
    "## 1. Business & Data Understanding\n",
    "\n",
    "**Stakeholder:** Product marketing & market research teams tracking brand health for Apple vs Google products.\n",
    "\n",
    "**Business problems we are solving:**\n",
    "1. **Brand Monitoring:** Quantify daily/weekly sentiment for Apple vs Google to see shifts early.  \n",
    "2. **Reputation Management:** Surface spikes in **negative** sentiment so PR/Support can respond quickly.  \n",
    "3. **Product Insights:** Identify common praise/complaints by inspecting influential words for each sentiment.  \n",
    "4. **Campaign Measurement:** Compare sentiment **before vs after** launches/announcements.\n",
    "\n",
    "**Dataset:** ~9,000 tweets with human‑labeled sentiment (`positive`, `negative`, `neutral`). Columns:  \n",
    "- `tweet_text` — the raw tweet  \n",
    "- `emotion_in_tweet_is_directed_at` — brand/product mentioned (often Apple/Google terms)  \n",
    "- `is_there_an_emotion_directed_at_a_brand_or_product` — sentiment label\n",
    "\n",
    "We iterate **from simple to advanced** as recommended:  \n",
    "- **Step 1 (Binary PoC):** Positive vs Negative only (fast baseline).  \n",
<<<<<<< HEAD
    "- **Step 2 (Multiclass):** Add Neutral to model full business reality.  "
=======
    "- **Step 2 (Multiclass):** Add Neutral to model full business reality.  \n"
>>>>>>> 67e4966c04ef071f453d894a03da8a48dc4df3cf
   ]
  },
  {
   "cell_type": "code",
   "execution_count": 1,
   "id": "ccc711a8",
   "metadata": {},
   "outputs": [
    {
     "name": "stdout",
     "output_type": "stream",
     "text": [
<<<<<<< HEAD
      "Python: 3.11.5\n",
      "pandas: 2.0.3\n",
      "numpy: 1.24.3\n",
      "scikit-learn: 1.3.0\n",
      "matplotlib: 3.7.2\n"
=======
      "Python: 3.8.5\n",
      "pandas: 1.4.4\n",
      "numpy: 1.23.0\n",
      "scikit-learn: 0.23.2\n",
      "matplotlib: 3.3.1\n"
>>>>>>> 67e4966c04ef071f453d894a03da8a48dc4df3cf
     ]
    }
   ],
   "source": [
    "# Reproducibility & Imports\n",
    "import os, re, warnings\n",
    "from pathlib import Path\n",
    "from datetime import datetime\n",
    "import numpy as np\n",
    "import pandas as pd\n",
    "import matplotlib.pyplot as plt\n",
    "\n",
    "from sklearn.model_selection import train_test_split, GridSearchCV, StratifiedKFold\n",
    "from sklearn.feature_extraction.text import TfidfVectorizer\n",
    "from sklearn.pipeline import Pipeline\n",
    "from sklearn.linear_model import LogisticRegression\n",
    "from sklearn.naive_bayes import MultinomialNB\n",
    "from sklearn.svm import LinearSVC\n",
    "from sklearn.metrics import (\n",
    "    classification_report, ConfusionMatrixDisplay, confusion_matrix\n",
    ")\n",
    "\n",
    "warnings.filterwarnings(\"ignore\")\n",
    "SEED = 42\n",
    "np.random.seed(SEED)\n",
    "\n",
    "def print_versions():\n",
    "    import platform\n",
    "    import sklearn, pandas, numpy, matplotlib\n",
    "    print(\"Python:\", platform.python_version())\n",
    "    print(\"pandas:\", pandas.__version__)\n",
    "    print(\"numpy:\", numpy.__version__)\n",
    "    print(\"scikit-learn:\", sklearn.__version__)\n",
    "    print(\"matplotlib:\", matplotlib.__version__)\n",
    "\n",
    "print_versions()"
   ]
  },
  {
   "cell_type": "markdown",
   "id": "b064609a",
   "metadata": {},
   "source": [
    "We loaded the libraries for data work, modeling, and plotting, set a random seed so results are repeatable, and printed package versions for reproducibility."
   ]
  },
  {
   "cell_type": "markdown",
   "id": "530977ce",
   "metadata": {},
   "source": [
    "## 2. Load the Data\n",
    "\n",
    "Read the CSV (with a fallback encoding if needed) and preview it."
   ]
  },
  {
   "cell_type": "code",
   "execution_count": 2,
   "id": "c540fea3",
   "metadata": {},
   "outputs": [
    {
     "name": "stdout",
     "output_type": "stream",
     "text": [
      "Shape: (9093, 3)\n"
     ]
    },
    {
     "data": {
<<<<<<< HEAD
=======
      "application/vnd.microsoft.datawrangler.viewer.v0+json": {
       "columns": [
        {
         "name": "index",
         "rawType": "int64",
         "type": "integer"
        },
        {
         "name": "tweet_text",
         "rawType": "object",
         "type": "string"
        },
        {
         "name": "emotion_in_tweet_is_directed_at",
         "rawType": "object",
         "type": "string"
        },
        {
         "name": "is_there_an_emotion_directed_at_a_brand_or_product",
         "rawType": "object",
         "type": "string"
        }
       ],
       "ref": "7bd26e41-048d-4321-85bd-d3d14cc3da1a",
       "rows": [
        [
         "0",
         ".@wesley83 I have a 3G iPhone. After 3 hrs tweeting at #RISE_Austin, it was dead!  I need to upgrade. Plugin stations at #SXSW.",
         "iPhone",
         "Negative emotion"
        ],
        [
         "1",
         "@jessedee Know about @fludapp ? Awesome iPad/iPhone app that you'll likely appreciate for its design. Also, they're giving free Ts at #SXSW",
         "iPad or iPhone App",
         "Positive emotion"
        ],
        [
         "2",
         "@swonderlin Can not wait for #iPad 2 also. They should sale them down at #SXSW.",
         "iPad",
         "Positive emotion"
        ],
        [
         "3",
         "@sxsw I hope this year's festival isn't as crashy as this year's iPhone app. #sxsw",
         "iPad or iPhone App",
         "Negative emotion"
        ],
        [
         "4",
         "@sxtxstate great stuff on Fri #SXSW: Marissa Mayer (Google), Tim O'Reilly (tech books/conferences) &amp; Matt Mullenweg (Wordpress)",
         "Google",
         "Positive emotion"
        ]
       ],
       "shape": {
        "columns": 3,
        "rows": 5
       }
      },
>>>>>>> 67e4966c04ef071f453d894a03da8a48dc4df3cf
      "text/html": [
       "<div>\n",
       "<style scoped>\n",
       "    .dataframe tbody tr th:only-of-type {\n",
       "        vertical-align: middle;\n",
       "    }\n",
       "\n",
       "    .dataframe tbody tr th {\n",
       "        vertical-align: top;\n",
       "    }\n",
       "\n",
       "    .dataframe thead th {\n",
       "        text-align: right;\n",
       "    }\n",
       "</style>\n",
       "<table border=\"1\" class=\"dataframe\">\n",
       "  <thead>\n",
       "    <tr style=\"text-align: right;\">\n",
       "      <th></th>\n",
       "      <th>tweet_text</th>\n",
       "      <th>emotion_in_tweet_is_directed_at</th>\n",
       "      <th>is_there_an_emotion_directed_at_a_brand_or_product</th>\n",
       "    </tr>\n",
       "  </thead>\n",
       "  <tbody>\n",
       "    <tr>\n",
       "      <th>0</th>\n",
       "      <td>.@wesley83 I have a 3G iPhone. After 3 hrs twe...</td>\n",
       "      <td>iPhone</td>\n",
       "      <td>Negative emotion</td>\n",
       "    </tr>\n",
       "    <tr>\n",
       "      <th>1</th>\n",
       "      <td>@jessedee Know about @fludapp ? Awesome iPad/i...</td>\n",
       "      <td>iPad or iPhone App</td>\n",
       "      <td>Positive emotion</td>\n",
       "    </tr>\n",
       "    <tr>\n",
       "      <th>2</th>\n",
       "      <td>@swonderlin Can not wait for #iPad 2 also. The...</td>\n",
       "      <td>iPad</td>\n",
       "      <td>Positive emotion</td>\n",
       "    </tr>\n",
       "    <tr>\n",
       "      <th>3</th>\n",
       "      <td>@sxsw I hope this year's festival isn't as cra...</td>\n",
       "      <td>iPad or iPhone App</td>\n",
       "      <td>Negative emotion</td>\n",
       "    </tr>\n",
       "    <tr>\n",
       "      <th>4</th>\n",
       "      <td>@sxtxstate great stuff on Fri #SXSW: Marissa M...</td>\n",
       "      <td>Google</td>\n",
       "      <td>Positive emotion</td>\n",
       "    </tr>\n",
       "  </tbody>\n",
       "</table>\n",
       "</div>"
      ],
      "text/plain": [
       "                                          tweet_text  \\\n",
       "0  .@wesley83 I have a 3G iPhone. After 3 hrs twe...   \n",
       "1  @jessedee Know about @fludapp ? Awesome iPad/i...   \n",
       "2  @swonderlin Can not wait for #iPad 2 also. The...   \n",
       "3  @sxsw I hope this year's festival isn't as cra...   \n",
       "4  @sxtxstate great stuff on Fri #SXSW: Marissa M...   \n",
       "\n",
       "  emotion_in_tweet_is_directed_at  \\\n",
       "0                          iPhone   \n",
       "1              iPad or iPhone App   \n",
       "2                            iPad   \n",
       "3              iPad or iPhone App   \n",
       "4                          Google   \n",
       "\n",
       "  is_there_an_emotion_directed_at_a_brand_or_product  \n",
       "0                                   Negative emotion  \n",
       "1                                   Positive emotion  \n",
       "2                                   Positive emotion  \n",
       "3                                   Negative emotion  \n",
       "4                                   Positive emotion  "
      ]
     },
     "execution_count": 2,
     "metadata": {},
     "output_type": "execute_result"
    }
   ],
   "source": [
    "# Update this path if running locally\n",
    "DATA_PATH = \"judge-1377884607_tweet_product_company.csv\"\n",
    "\n",
    "def read_csv_robust(path):\n",
    "    try:\n",
    "        return pd.read_csv(path)\n",
    "    except UnicodeDecodeError:\n",
    "        return pd.read_csv(path, encoding=\"latin1\")\n",
    "\n",
    "df_raw = read_csv_robust(DATA_PATH)\n",
    "print(\"Shape:\", df_raw.shape)\n",
    "df_raw.head(5)"
   ]
<<<<<<< HEAD
  },
  {
   "cell_type": "markdown",
   "id": "66efeca9",
   "metadata": {},
   "source": [
    "We opened the file, showed how many rows/columns it has, and displayed a few rows so we can sanity‑check the columns and values."
   ]
  },
  {
   "cell_type": "markdown",
   "id": "d70b2c08",
   "metadata": {},
   "source": [
    "## 3. Quick Exploratory Check\n",
    "\n",
    "Look at column info, label counts, and missing values."
   ]
  },
  {
   "cell_type": "code",
   "execution_count": 3,
   "id": "fa3b508c",
   "metadata": {},
   "outputs": [
    {
     "name": "stdout",
     "output_type": "stream",
     "text": [
      "<class 'pandas.core.frame.DataFrame'>\n",
      "RangeIndex: 9093 entries, 0 to 9092\n",
      "Data columns (total 3 columns):\n",
      " #   Column                                              Non-Null Count  Dtype \n",
      "---  ------                                              --------------  ----- \n",
      " 0   tweet_text                                          9092 non-null   object\n",
      " 1   emotion_in_tweet_is_directed_at                     3291 non-null   object\n",
      " 2   is_there_an_emotion_directed_at_a_brand_or_product  9093 non-null   object\n",
      "dtypes: object(3)\n",
      "memory usage: 213.2+ KB\n",
      "None \n",
      "\n",
      "Unique values in tweet_text: 9065\n",
      "Unique values in emotion_in_tweet_is_directed_at: 9\n",
      "Unique values in is_there_an_emotion_directed_at_a_brand_or_product: 4\n",
      "\n",
      "Label value counts:\n",
      "is_there_an_emotion_directed_at_a_brand_or_product\n",
      "No emotion toward brand or product    5389\n",
      "Positive emotion                      2978\n",
      "Negative emotion                       570\n",
      "I can't tell                           156\n",
      "Name: count, dtype: int64\n",
      "\n",
      "Missing by column:\n",
      "tweet_text                                               1\n",
      "emotion_in_tweet_is_directed_at                       5802\n",
      "is_there_an_emotion_directed_at_a_brand_or_product       0\n",
      "dtype: int64\n"
     ]
    }
   ],
   "source": [
    "print(df_raw.info(), \"\\n\")\n",
    "for c in df_raw.columns:\n",
    "    print(f\"Unique values in {c}: {df_raw[c].nunique()}\")\n",
    "\n",
    "label_col = \"is_there_an_emotion_directed_at_a_brand_or_product\"\n",
    "print(\"\\nLabel value counts:\")\n",
    "print(df_raw[label_col].value_counts(dropna=False))\n",
    "\n",
    "print(\"\\nMissing by column:\")\n",
    "print(df_raw.isna().sum())"
   ]
  },
  {
   "cell_type": "markdown",
   "id": "106c2a89",
   "metadata": {},
   "source": [
    "We checked which columns exist, how many unique values they have, how the sentiment labels are distributed, and where data is missing. This guides cleaning and evaluation.\n",
    "\n",
    "This guids cleaning and evaluation on the data (what could be missing so we prepare the data)\n"
   ]
  },
  {
   "cell_type": "markdown",
   "id": "c7a84cd9",
   "metadata": {},
   "source": [
    "## 4. Data Preparation\n",
    "\n",
    "Clean the text, map raw labels into three classes, and create a coarse brand tag for later charts."
   ]
  },
  {
   "cell_type": "code",
   "execution_count": 4,
   "id": "6d069c29",
   "metadata": {},
   "outputs": [
    {
     "name": "stdout",
     "output_type": "stream",
     "text": [
      "After cleaning & filtering: (8937, 5)\n",
      "sentiment\n",
      "neutral     5389\n",
      "positive    2978\n",
      "negative     570\n",
      "Name: count, dtype: int64\n"
     ]
    },
    {
     "data": {
      "text/html": [
       "<div>\n",
       "<style scoped>\n",
       "    .dataframe tbody tr th:only-of-type {\n",
       "        vertical-align: middle;\n",
       "    }\n",
       "\n",
       "    .dataframe tbody tr th {\n",
       "        vertical-align: top;\n",
       "    }\n",
       "\n",
       "    .dataframe thead th {\n",
       "        text-align: right;\n",
       "    }\n",
       "</style>\n",
       "<table border=\"1\" class=\"dataframe\">\n",
       "  <thead>\n",
       "    <tr style=\"text-align: right;\">\n",
       "      <th></th>\n",
       "      <th>text</th>\n",
       "      <th>text_clean</th>\n",
       "      <th>target_brand</th>\n",
       "      <th>brand_coarse</th>\n",
       "      <th>sentiment</th>\n",
       "    </tr>\n",
       "  </thead>\n",
       "  <tbody>\n",
       "    <tr>\n",
       "      <th>0</th>\n",
       "      <td>.@wesley83 I have a 3G iPhone. After 3 hrs twe...</td>\n",
       "      <td>i have a 3g iphone  after 3 hrs tweeting at \\1...</td>\n",
       "      <td>iPhone</td>\n",
       "      <td>Apple</td>\n",
       "      <td>negative</td>\n",
       "    </tr>\n",
       "    <tr>\n",
       "      <th>1</th>\n",
       "      <td>@jessedee Know about @fludapp ? Awesome iPad/i...</td>\n",
       "      <td>know about     awesome ipad iphone app that yo...</td>\n",
       "      <td>iPad or iPhone App</td>\n",
       "      <td>Apple</td>\n",
       "      <td>positive</td>\n",
       "    </tr>\n",
       "    <tr>\n",
       "      <th>2</th>\n",
       "      <td>@swonderlin Can not wait for #iPad 2 also. The...</td>\n",
       "      <td>can not wait for \\1 2 also  they should sale t...</td>\n",
       "      <td>iPad</td>\n",
       "      <td>Apple</td>\n",
       "      <td>positive</td>\n",
       "    </tr>\n",
       "    <tr>\n",
       "      <th>3</th>\n",
       "      <td>@sxsw I hope this year's festival isn't as cra...</td>\n",
       "      <td>i hope this year's festival isn't as crashy as...</td>\n",
       "      <td>iPad or iPhone App</td>\n",
       "      <td>Apple</td>\n",
       "      <td>negative</td>\n",
       "    </tr>\n",
       "    <tr>\n",
       "      <th>4</th>\n",
       "      <td>@sxtxstate great stuff on Fri #SXSW: Marissa M...</td>\n",
       "      <td>great stuff on fri \\1  marissa mayer  google  ...</td>\n",
       "      <td>Google</td>\n",
       "      <td>Google</td>\n",
       "      <td>positive</td>\n",
       "    </tr>\n",
       "    <tr>\n",
       "      <th>5</th>\n",
       "      <td>@teachntech00 New iPad Apps For #SpeechTherapy...</td>\n",
       "      <td>new ipad apps for \\1 and communication are sho...</td>\n",
       "      <td>NaN</td>\n",
       "      <td>Apple</td>\n",
       "      <td>neutral</td>\n",
       "    </tr>\n",
       "    <tr>\n",
       "      <th>6</th>\n",
       "      <td>NaN</td>\n",
       "      <td>nan</td>\n",
       "      <td>NaN</td>\n",
       "      <td>Other/Unknown</td>\n",
       "      <td>neutral</td>\n",
       "    </tr>\n",
       "    <tr>\n",
       "      <th>7</th>\n",
       "      <td>#SXSW is just starting, #CTIA is around the co...</td>\n",
       "      <td>\\1 is just starting  \\1 is around the corner a...</td>\n",
       "      <td>Android</td>\n",
       "      <td>Google</td>\n",
       "      <td>positive</td>\n",
       "    </tr>\n",
       "  </tbody>\n",
       "</table>\n",
       "</div>"
      ],
      "text/plain": [
       "                                                text  \\\n",
       "0  .@wesley83 I have a 3G iPhone. After 3 hrs twe...   \n",
       "1  @jessedee Know about @fludapp ? Awesome iPad/i...   \n",
       "2  @swonderlin Can not wait for #iPad 2 also. The...   \n",
       "3  @sxsw I hope this year's festival isn't as cra...   \n",
       "4  @sxtxstate great stuff on Fri #SXSW: Marissa M...   \n",
       "5  @teachntech00 New iPad Apps For #SpeechTherapy...   \n",
       "6                                                NaN   \n",
       "7  #SXSW is just starting, #CTIA is around the co...   \n",
       "\n",
       "                                          text_clean        target_brand  \\\n",
       "0  i have a 3g iphone  after 3 hrs tweeting at \\1...              iPhone   \n",
       "1  know about     awesome ipad iphone app that yo...  iPad or iPhone App   \n",
       "2  can not wait for \\1 2 also  they should sale t...                iPad   \n",
       "3  i hope this year's festival isn't as crashy as...  iPad or iPhone App   \n",
       "4  great stuff on fri \\1  marissa mayer  google  ...              Google   \n",
       "5  new ipad apps for \\1 and communication are sho...                 NaN   \n",
       "6                                                nan                 NaN   \n",
       "7  \\1 is just starting  \\1 is around the corner a...             Android   \n",
       "\n",
       "    brand_coarse sentiment  \n",
       "0          Apple  negative  \n",
       "1          Apple  positive  \n",
       "2          Apple  positive  \n",
       "3          Apple  negative  \n",
       "4         Google  positive  \n",
       "5          Apple   neutral  \n",
       "6  Other/Unknown   neutral  \n",
       "7         Google  positive  "
      ]
     },
     "execution_count": 4,
     "metadata": {},
     "output_type": "execute_result"
    }
   ],
   "source": [
    "# Rename columns for convenience\n",
    "df = df_raw.rename(columns={\n",
    "    \"tweet_text\": \"text\",\n",
    "    \"emotion_in_tweet_is_directed_at\": \"target_brand\",\n",
    "    \"is_there_an_emotion_directed_at_a_brand_or_product\": \"sentiment_raw\"\n",
    "}).copy()\n",
    "\n",
    "# Map sentiment labels to three classes. Split into 3 classes\n",
    "\n",
    "sent_map = {\n",
    "    \"Positive emotion\": \"positive\",\n",
    "    \"Negative emotion\": \"negative\",\n",
    "    \"No emotion toward brand or product\": \"neutral\",\n",
    "    \"I can't tell\": None, \"I cant tell\": None, \"I can?t tell\": None,\n",
    "    \"Tweet not related to product\": None\n",
    "}\n",
    "df[\"sentiment\"] = df[\"sentiment_raw\"].map(lambda x: sent_map.get(x, None))\n",
    "\n",
    "# Text cleaner\n",
    "URL_RE = re.compile(r\"(https?://\\S+|www\\.\\S+)\")\n",
    "MENTION_RE = re.compile(r\"@\\w+\")\n",
    "HASHTAG_RE = re.compile(r\"#(\\w+)\")  # keep the word, drop '#'\n",
    "HTML_AMP_RE = re.compile(r\"&amp;\")\n",
    "\n",
    "def clean_text(s: str) -> str:\n",
    "    s = str(s).lower()\n",
    "    s = URL_RE.sub(\" \", s)\n",
    "    s = MENTION_RE.sub(\" \", s)\n",
    "    s = HASHTAG_RE.sub(r\"\\\\1\", s)\n",
    "    s = HTML_AMP_RE.sub(\"&\", s)\n",
    "    s = re.sub(r\"[^a-z0-9'\\\\s]\", \" \", s)\n",
    "    s = re.sub(r\"\\\\s+\", \" \", s).strip()\n",
    "    return s\n",
    "\n",
    "df[\"text_clean\"] = df[\"text\"].astype(str).map(clean_text)\n",
    "\n",
    "# Drop rows with missing/unusable data\n",
    "df = df.dropna(subset=[\"text_clean\"])\n",
    "df = df[df[\"text_clean\"].str.len() > 0]\n",
    "df = df[df[\"sentiment\"].notna()]\n",
    "\n",
    "print(\"After cleaning & filtering:\", df.shape)\n",
    "print(df[\"sentiment\"].value_counts())\n",
    "\n",
    "# Coarse brand mapping for analysis (not used as features)\n",
    "def map_brand_from_string(x: str) -> str:\n",
    "    if not isinstance(x, str):\n",
    "        return \"Other/Unknown\"\n",
    "    xl = x.lower()\n",
    "    if any(k in xl for k in [\"apple\", \"iphone\", \"ipad\", \"mac\", \"itunes\", \"ipod\"]):\n",
    "        return \"Apple\"\n",
    "    if any(k in xl for k in [\"google\", \"android\", \"nexus\", \"chromebook\", \"pixel\", \"play \"]):\n",
    "        return \"Google\"\n",
    "    return \"Other/Unknown\"\n",
    "\n",
    "# Prefer explicit target_brand when present; otherwise infer from text\n",
    "df[\"brand_coarse\"] = np.where(\n",
    "    df[\"target_brand\"].notna(),\n",
    "    df[\"target_brand\"].astype(str).apply(map_brand_from_string),\n",
    "    df[\"text\"].astype(str).apply(map_brand_from_string)\n",
    ")\n",
    "\n",
    "df[[\"text\", \"text_clean\", \"target_brand\", \"brand_coarse\", \"sentiment\"]].head(8)"
   ]
  },
  {
   "cell_type": "markdown",
   "id": "1dfb944f",
   "metadata": {},
   "source": [
    "We cleaned each tweet (removing links, @names, etc.), converted labels into clear **positive/negative/neutral** classes, filtered out unusable rows, and created a rough brand tag (Apple/Google/Other) for later summaries."
   ]
=======
>>>>>>> 67e4966c04ef071f453d894a03da8a48dc4df3cf
  }
 ],
 "metadata": {
  "kernelspec": {
<<<<<<< HEAD
   "display_name": "base",
=======
   "display_name": "learn-env",
>>>>>>> 67e4966c04ef071f453d894a03da8a48dc4df3cf
   "language": "python",
   "name": "python3"
  },
  "language_info": {
   "codemirror_mode": {
    "name": "ipython",
    "version": 3
   },
   "file_extension": ".py",
   "mimetype": "text/x-python",
   "name": "python",
   "nbconvert_exporter": "python",
   "pygments_lexer": "ipython3",
<<<<<<< HEAD
   "version": "3.11.5"
=======
   "version": "3.8.5"
>>>>>>> 67e4966c04ef071f453d894a03da8a48dc4df3cf
  }
 },
 "nbformat": 4,
 "nbformat_minor": 5
}

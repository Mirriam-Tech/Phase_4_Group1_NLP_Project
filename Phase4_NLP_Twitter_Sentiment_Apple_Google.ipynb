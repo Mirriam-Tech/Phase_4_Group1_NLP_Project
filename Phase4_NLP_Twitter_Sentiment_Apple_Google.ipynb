{
 "cells": [
  {
   "cell_type": "markdown",
   "id": "f6b71f4d",
   "metadata": {},
   "source": [
    "# Phase 4 Project — NLP Sentiment on Apple vs Google Tweets\n",
    "_Group 1 Project — Moringa School_  \n",
    "\n",
    "\n",
    "---"
   ]
  },
  {
   "cell_type": "markdown",
   "id": "3e04d403",
   "metadata": {},
   "source": [
    "### Abstract\n",
    "\n",
    "This project applies Natural Language Processing (NLP) to analyze public sentiment on Apple and Google products using a dataset of approximately 9,000 tweets collected by CrowdFlower and hosted on data.world. Each tweet is human‑labeled as **positive**, **negative**, or **neutral**, making it well‑suited for a supervised sentiment classification task. Our stakeholder is a technology market research team seeking actionable insights into how consumers perceive competing products in real time. Accurate sentiment classification allows the team to monitor brand perception, identify reputational risks, and adapt communication strategies quickly.\n",
    "\n",
    "Data preparation addressed the short, noisy nature of tweets. We removed links and @mentions, normalized casing, preserved meaningful hashtag words, and stripped punctuation and HTML artifacts. We experimented with keeping vs. removing stopwords to gauge impact on sentiment detection. Feature extraction included **TF‑IDF** n‑grams for baseline models and a forward‑looking appendix with **pretrained transformer embeddings (DistilBERT)**. Key libraries: **scikit‑learn** (modeling & evaluation), and **NLTK** (cleaning).\n",
    "\n",
    "We followed an iterative strategy. First, a **binary proof‑of‑concept** (positive vs. negative) using Logistic Regression and Multinomial Naive Bayes demonstrated feasibility. Next, we expanded to **multiclass** (positive, neutral, negative) and tuned a **TF‑IDF + LinearSVC** pipeline with cross‑validation optimized for macro‑F1.\n",
    "\n",
    "Evaluation used stratified train/validation/test splits. We reported accuracy, precision, recall, **macro‑F1**, and confusion matrices to reflect balanced performance across classes. We added model interpretability via top n‑grams and optional **LIME** explanations for selected tweets. We conclude with stakeholder recommendations for brand monitoring, negative‑spike alerts, and campaign impact analysis."
   ]
  },
  {
   "cell_type": "markdown",
   "id": "95d56f8d",
   "metadata": {},
   "source": [
    "## 1. Business & Data Understanding\n",
    "\n",
    "**Stakeholder:** Product marketing & market research teams tracking brand health for Apple vs Google products.\n",
    "\n",
    "**Business problems we are solving:**\n",
    "1. **Brand Monitoring:** Quantify daily/weekly sentiment for Apple vs Google to see shifts early.  \n",
    "2. **Reputation Management:** Surface spikes in **negative** sentiment so PR/Support can respond quickly.  \n",
    "3. **Product Insights:** Identify common praise/complaints by inspecting influential words for each sentiment.  \n",
    "4. **Campaign Measurement:** Compare sentiment **before vs after** launches/announcements.\n",
    "\n",
    "**Dataset:** ~9,000 tweets with human‑labeled sentiment (`positive`, `negative`, `neutral`). Columns:  \n",
    "- `tweet_text` — the raw tweet  \n",
    "- `emotion_in_tweet_is_directed_at` — brand/product mentioned (often Apple/Google terms)  \n",
    "- `is_there_an_emotion_directed_at_a_brand_or_product` — sentiment label\n",
    "\n",
    "We iterate **from simple to advanced** as recommended:  \n",
    "- **Step 1 (Binary PoC):** Positive vs Negative only (fast baseline).  \n",
    "- **Step 2 (Multiclass):** Add Neutral to model full business reality. "
   ]
  },
  {
   "cell_type": "code",
   "execution_count": 21,
   "id": "ccc711a8",
   "metadata": {},
   "outputs": [
    {
     "name": "stdout",
     "output_type": "stream",
     "text": [
      "Python: 3.13.0\n",
      "pandas: 2.2.3\n",
      "numpy: 2.2.4\n",
      "scikit-learn: 1.6.1\n",
      "matplotlib: 3.10.1\n"
     ]
    }
   ],
   "source": [
    "# Reproducibility & Imports\n",
    "import os, re, warnings\n",
    "from pathlib import Path\n",
    "from datetime import datetime\n",
    "import numpy as np\n",
    "import pandas as pd\n",
    "import matplotlib.pyplot as plt\n",
    "\n",
    "from sklearn.model_selection import train_test_split, GridSearchCV, StratifiedKFold\n",
    "from sklearn.feature_extraction.text import TfidfVectorizer\n",
    "from sklearn.pipeline import Pipeline\n",
    "from sklearn.linear_model import LogisticRegression\n",
    "from sklearn.naive_bayes import MultinomialNB\n",
    "from sklearn.svm import LinearSVC\n",
    "from sklearn.metrics import (\n",
    "    classification_report, ConfusionMatrixDisplay, confusion_matrix\n",
    ")\n",
    "\n",
    "warnings.filterwarnings(\"ignore\")\n",
    "SEED = 42\n",
    "np.random.seed(SEED)\n",
    "\n",
    "def print_versions():\n",
    "    import platform\n",
    "    import sklearn, pandas, numpy, matplotlib\n",
    "    print(\"Python:\", platform.python_version())\n",
    "    print(\"pandas:\", pandas.__version__)\n",
    "    print(\"numpy:\", numpy.__version__)\n",
    "    print(\"scikit-learn:\", sklearn.__version__)\n",
    "    print(\"matplotlib:\", matplotlib.__version__)\n",
    "\n",
    "print_versions()"
   ]
  },
  {
   "cell_type": "markdown",
   "id": "b064609a",
   "metadata": {},
   "source": [
    "We loaded the libraries for data work, modeling, and plotting, set a random seed so results are repeatable, and printed package versions for reproducibility."
   ]
  },
  {
   "cell_type": "markdown",
   "id": "530977ce",
   "metadata": {},
   "source": [
    "## 2. Load the Data\n",
    "\n",
    "Read the CSV"
   ]
  },
  {
   "cell_type": "code",
   "execution_count": 22,
   "id": "c540fea3",
   "metadata": {},
   "outputs": [
    {
     "name": "stdout",
     "output_type": "stream",
     "text": [
      "Shape: (9093, 3)\n"
     ]
    },
    {
     "data": {
      "text/html": [
       "<div>\n",
       "<style scoped>\n",
       "    .dataframe tbody tr th:only-of-type {\n",
       "        vertical-align: middle;\n",
       "    }\n",
       "\n",
       "    .dataframe tbody tr th {\n",
       "        vertical-align: top;\n",
       "    }\n",
       "\n",
       "    .dataframe thead th {\n",
       "        text-align: right;\n",
       "    }\n",
       "</style>\n",
       "<table border=\"1\" class=\"dataframe\">\n",
       "  <thead>\n",
       "    <tr style=\"text-align: right;\">\n",
       "      <th></th>\n",
       "      <th>tweet_text</th>\n",
       "      <th>emotion_in_tweet_is_directed_at</th>\n",
       "      <th>is_there_an_emotion_directed_at_a_brand_or_product</th>\n",
       "    </tr>\n",
       "  </thead>\n",
       "  <tbody>\n",
       "    <tr>\n",
       "      <th>0</th>\n",
       "      <td>.@wesley83 I have a 3G iPhone. After 3 hrs twe...</td>\n",
       "      <td>iPhone</td>\n",
       "      <td>Negative emotion</td>\n",
       "    </tr>\n",
       "    <tr>\n",
       "      <th>1</th>\n",
       "      <td>@jessedee Know about @fludapp ? Awesome iPad/i...</td>\n",
       "      <td>iPad or iPhone App</td>\n",
       "      <td>Positive emotion</td>\n",
       "    </tr>\n",
       "    <tr>\n",
       "      <th>2</th>\n",
       "      <td>@swonderlin Can not wait for #iPad 2 also. The...</td>\n",
       "      <td>iPad</td>\n",
       "      <td>Positive emotion</td>\n",
       "    </tr>\n",
       "    <tr>\n",
       "      <th>3</th>\n",
       "      <td>@sxsw I hope this year's festival isn't as cra...</td>\n",
       "      <td>iPad or iPhone App</td>\n",
       "      <td>Negative emotion</td>\n",
       "    </tr>\n",
       "    <tr>\n",
       "      <th>4</th>\n",
       "      <td>@sxtxstate great stuff on Fri #SXSW: Marissa M...</td>\n",
       "      <td>Google</td>\n",
       "      <td>Positive emotion</td>\n",
       "    </tr>\n",
       "  </tbody>\n",
       "</table>\n",
       "</div>"
      ],
      "text/plain": [
       "                                          tweet_text  \\\n",
       "0  .@wesley83 I have a 3G iPhone. After 3 hrs twe...   \n",
       "1  @jessedee Know about @fludapp ? Awesome iPad/i...   \n",
       "2  @swonderlin Can not wait for #iPad 2 also. The...   \n",
       "3  @sxsw I hope this year's festival isn't as cra...   \n",
       "4  @sxtxstate great stuff on Fri #SXSW: Marissa M...   \n",
       "\n",
       "  emotion_in_tweet_is_directed_at  \\\n",
       "0                          iPhone   \n",
       "1              iPad or iPhone App   \n",
       "2                            iPad   \n",
       "3              iPad or iPhone App   \n",
       "4                          Google   \n",
       "\n",
       "  is_there_an_emotion_directed_at_a_brand_or_product  \n",
       "0                                   Negative emotion  \n",
       "1                                   Positive emotion  \n",
       "2                                   Positive emotion  \n",
       "3                                   Negative emotion  \n",
       "4                                   Positive emotion  "
      ]
     },
     "execution_count": 22,
     "metadata": {},
     "output_type": "execute_result"
    }
   ],
   "source": [
    "# Update this path if running locally\n",
    "DATA_PATH = \"judge-1377884607_tweet_product_company.csv\"\n",
    "\n",
    "def read_csv_robust(path):\n",
    "    try:\n",
    "        return pd.read_csv(path)\n",
    "    except UnicodeDecodeError:\n",
    "        return pd.read_csv(path, encoding=\"latin1\")\n",
    "\n",
    "df_raw = read_csv_robust(DATA_PATH)\n",
    "print(\"Shape:\", df_raw.shape)\n",
    "df_raw.head(5)"
   ]
  },
  {
   "cell_type": "markdown",
   "id": "66efeca9",
   "metadata": {},
   "source": [
    "We opened the file, showed how many rows/columns it has, and displayed a few rows so we can sanity‑check the columns and values."
   ]
  },
  {
   "cell_type": "markdown",
   "id": "d70b2c08",
   "metadata": {},
   "source": [
    "## 3. Quick Exploratory Check\n",
    "\n",
    "Look at column info, label counts, and missing values."
   ]
  },
  {
   "cell_type": "code",
   "execution_count": 23,
   "id": "fa3b508c",
   "metadata": {},
   "outputs": [
    {
     "name": "stdout",
     "output_type": "stream",
     "text": [
      "<class 'pandas.core.frame.DataFrame'>\n",
      "RangeIndex: 9093 entries, 0 to 9092\n",
      "Data columns (total 3 columns):\n",
      " #   Column                                              Non-Null Count  Dtype \n",
      "---  ------                                              --------------  ----- \n",
      " 0   tweet_text                                          9092 non-null   object\n",
      " 1   emotion_in_tweet_is_directed_at                     3291 non-null   object\n",
      " 2   is_there_an_emotion_directed_at_a_brand_or_product  9093 non-null   object\n",
      "dtypes: object(3)\n",
      "memory usage: 213.2+ KB\n",
      "None \n",
      "\n",
      "Unique values in tweet_text: 9065\n",
      "Unique values in emotion_in_tweet_is_directed_at: 9\n",
      "Unique values in is_there_an_emotion_directed_at_a_brand_or_product: 4\n",
      "\n",
      "Label value counts:\n",
      "is_there_an_emotion_directed_at_a_brand_or_product\n",
      "No emotion toward brand or product    5389\n",
      "Positive emotion                      2978\n",
      "Negative emotion                       570\n",
      "I can't tell                           156\n",
      "Name: count, dtype: int64\n",
      "\n",
      "Missing by column:\n",
      "tweet_text                                               1\n",
      "emotion_in_tweet_is_directed_at                       5802\n",
      "is_there_an_emotion_directed_at_a_brand_or_product       0\n",
      "dtype: int64\n"
     ]
    }
   ],
   "source": [
    "print(df_raw.info(), \"\\n\")\n",
    "for c in df_raw.columns:\n",
    "    print(f\"Unique values in {c}: {df_raw[c].nunique()}\")\n",
    "\n",
    "label_col = \"is_there_an_emotion_directed_at_a_brand_or_product\"\n",
    "print(\"\\nLabel value counts:\")\n",
    "print(df_raw[label_col].value_counts(dropna=False))\n",
    "\n",
    "print(\"\\nMissing by column:\")\n",
    "print(df_raw.isna().sum())"
   ]
  },
  {
   "cell_type": "markdown",
   "id": "106c2a89",
   "metadata": {},
   "source": [
    "We checked which columns exist, how many unique values they have, how the sentiment labels are distributed, and where data is missing. This guides cleaning and evaluation."
   ]
  },
  {
   "cell_type": "markdown",
   "id": "c7a84cd9",
   "metadata": {},
   "source": [
    "## 4. Data Preparation\n",
    "\n",
    "Clean the text, map raw labels into three classes, and create a coarse brand tag for later charts."
   ]
  },
  {
   "cell_type": "code",
   "execution_count": 24,
   "id": "6d069c29",
   "metadata": {},
   "outputs": [
    {
     "name": "stdout",
     "output_type": "stream",
     "text": [
      "After cleaning & filtering: (8937, 5)\n",
      "sentiment\n",
      "neutral     5389\n",
      "positive    2978\n",
      "negative     570\n",
      "Name: count, dtype: int64\n"
     ]
    },
    {
     "data": {
      "image/png": "[encoded data removed]",
      "text/plain": [
       "<Figure size 800x600 with 1 Axes>"
      ]
     },
     "metadata": {},
     "output_type": "display_data"
    }
   ],
   "source": [
    "# Rename columns for convenience\n",
    "df = df_raw.rename(columns={\n",
    "    \"tweet_text\": \"text\",\n",
    "    \"emotion_in_tweet_is_directed_at\": \"target_brand\",\n",
    "    \"is_there_an_emotion_directed_at_a_brand_or_product\": \"sentiment_raw\"\n",
    "}).copy()\n",
    "\n",
    "# Map sentiment labels to three classes\n",
    "sent_map = {\n",
    "    \"Positive emotion\": \"positive\",\n",
    "    \"Negative emotion\": \"negative\",\n",
    "    \"No emotion toward brand or product\": \"neutral\",\n",
    "    \"I can't tell\": None, \"I cant tell\": None, \"I can?t tell\": None,\n",
    "    \"Tweet not related to product\": None\n",
    "}\n",
    "df[\"sentiment\"] = df[\"sentiment_raw\"].map(lambda x: sent_map.get(x, None))\n",
    "\n",
    "# Text cleaner\n",
    "URL_RE = re.compile(r\"(https?://\\S+|www\\.\\S+)\")\n",
    "MENTION_RE = re.compile(r\"@\\w+\")\n",
    "HASHTAG_RE = re.compile(r\"#(\\w+)\")  # keep the word, drop '#'\n",
    "HTML_AMP_RE = re.compile(r\"&amp;\")\n",
    "\n",
    "def clean_text(s: str) -> str:\n",
    "    s = str(s).lower()\n",
    "    s = URL_RE.sub(\" \", s)\n",
    "    s = MENTION_RE.sub(\" \", s)\n",
    "    s = HASHTAG_RE.sub(r\"\\\\1\", s)\n",
    "    s = HTML_AMP_RE.sub(\"&\", s)\n",
    "    s = re.sub(r\"[^a-z0-9'\\\\s]\", \" \", s)\n",
    "    s = re.sub(r\"\\\\s+\", \" \", s).strip()\n",
    "    return s\n",
    "\n",
    "df[\"text_clean\"] = df[\"text\"].astype(str).map(clean_text)\n",
    "\n",
    "# Drop rows with missing/unusable data\n",
    "df = df.dropna(subset=[\"text_clean\"])\n",
    "df = df[df[\"text_clean\"].str.len() > 0]\n",
    "df = df[df[\"sentiment\"].notna()]\n",
    "\n",
    "print(\"After cleaning & filtering:\", df.shape)\n",
    "print(df[\"sentiment\"].value_counts())\n",
    "\n",
    "# Coarse brand mapping for analysis (not used as features)\n",
    "def map_brand_from_string(x: str) -> str:\n",
    "    if not isinstance(x, str):\n",
    "        return \"Other/Unknown\"\n",
    "    xl = x.lower()\n",
    "    if any(k in xl for k in [\"apple\", \"iphone\", \"ipad\", \"mac\", \"itunes\", \"ipod\"]):\n",
    "        return \"Apple\"\n",
    "    if any(k in xl for k in [\"google\", \"android\", \"nexus\", \"chromebook\", \"pixel\", \"play \"]):\n",
    "        return \"Google\"\n",
    "    return \"Other/Unknown\"\n",
    "\n",
    "# Prefer explicit target_brand when present; otherwise infer from text\n",
    "df[\"brand_coarse\"] = np.where(\n",
    "    df[\"target_brand\"].notna(),\n",
    "    df[\"target_brand\"].astype(str).apply(map_brand_from_string),\n",
    "    df[\"text\"].astype(str).apply(map_brand_from_string)\n",
    ")\n",
    "\n",
    "df[[\"text\", \"text_clean\", \"target_brand\", \"brand_coarse\", \"sentiment\"]].head(8)\n",
    "\n",
    "# Distribution of sentiment\n",
    "sentiment_counts = df['sentiment'].value_counts()\n",
    "\n",
    "# Bar chart\n",
    "plt.figure(figsize=(8, 6))\n",
    "plt.bar(sentiment_counts.index, sentiment_counts.values, color=['skyblue', 'salmon', 'lightgreen'])\n",
    "plt.title('sentiment Distribution')\n",
    "plt.xlabel('sentiment')\n",
    "plt.ylabel('Number of text')\n",
    "\n",
    "# Save the figure as image\n",
    "plt.savefig(\"sentiment_distribution.png\", dpi=300, bbox_inches='tight')\n",
    "\n",
    "plt.show()"
   ]
  },
  {
   "cell_type": "markdown",
   "id": "1dfb944f",
   "metadata": {},
   "source": [
    "We cleaned each tweet (removing links, @names, etc.), converted labels into clear **positive/negative/neutral** classes, filtered out unusable rows, and created a rough brand tag (Apple/Google/Other) for later summaries."
   ]
  },
  {
   "cell_type": "markdown",
   "id": "5f74feb3",
   "metadata": {},
   "source": [
    "## 4.1 NLTK-Enhanced Preprocessing (Tokenizer, Stopwords, Lemmatization)\n",
    "\n",
    "Here we explicitly use **NLTK** to improve text preprocessing:\n",
    "- **Tweet-aware tokenization** using `TweetTokenizer` (better for emojis, hashtags, @mentions).\n",
    "- **Stopword removal** while **keeping negations** (`no`, `not`, `nor`, `n't`) because they flip sentiment.\n",
    "- **Lemmatization** with `WordNetLemmatizer` so words like *\"likes\"*, *\"liked\"*, *\"liking\"* become **like**.\n",
    "\n",
    "We then plug this tokenizer into `TfidfVectorizer` so our models learn from cleaner, normalized tokens."
   ]
  },
  {
   "cell_type": "code",
   "execution_count": 25,
   "id": "8a6abe3c",
   "metadata": {},
   "outputs": [
    {
     "name": "stdout",
     "output_type": "stream",
     "text": [
      "Sample: ['like', 'new', 'iphone', 'camera', 'battery', 'not', 'bad']\n"
     ]
    }
   ],
   "source": [
    "# NLTK setup and custom tokenizer\n",
    "import nltk\n",
    "try:\n",
    "    nltk.data.find(\"tokenizers/punkt\")\n",
    "except LookupError:\n",
    "    nltk.download(\"punkt\", quiet=True)\n",
    "try:\n",
    "    nltk.data.find(\"corpora/stopwords\")\n",
    "except LookupError:\n",
    "    nltk.download(\"stopwords\", quiet=True)\n",
    "try:\n",
    "    nltk.data.find(\"corpora/wordnet\")\n",
    "except LookupError:\n",
    "    nltk.download(\"wordnet\", quiet=True)\n",
    "try:\n",
    "    nltk.data.find(\"corpora/omw-1.4\")\n",
    "except LookupError:\n",
    "    nltk.download(\"omw-1.4\", quiet=True)\n",
    "\n",
    "from nltk.tokenize import TweetTokenizer\n",
    "from nltk.corpus import stopwords\n",
    "from nltk.stem import WordNetLemmatizer\n",
    "\n",
    "_tkn = TweetTokenizer(preserve_case=False, strip_handles=True, reduce_len=True)\n",
    "_stop = set(stopwords.words(\"english\"))\n",
    "_negation_keep = {\"no\", \"not\", \"nor\", \"n't\"}\n",
    "_stop = {w for w in _stop if w not in _negation_keep}\n",
    "_lemma = WordNetLemmatizer()\n",
    "\n",
    "def nltk_tokenize(text: str):\n",
    "    txt = str(text)\n",
    "    toks = _tkn.tokenize(txt)\n",
    "    toks = [t for t in toks if t.isalnum()]\n",
    "    toks = [_lemma.lemmatize(t) for t in toks if t not in _stop]\n",
    "    return toks\n",
    "\n",
    "print(\"Sample:\", nltk_tokenize(\"I don't like the new iPhone camera, but the battery is not bad!\"))"
   ]
  },
  {
   "cell_type": "markdown",
   "id": "88cf2f84",
   "metadata": {},
   "source": [
    " We configured NLTK to tokenize tweets smartly, remove common filler words (but kept negations like *not*), and reduce words to their base form (lemmatization). This helps the model focus on meaning instead of noise."
   ]
  },
  {
   "cell_type": "markdown",
   "id": "b6ad4342",
   "metadata": {},
   "source": [
    "### NLTK Tokenizer inside TF‑IDF (Multiclass Model)\n",
    "\n",
    "We now swap in the NLTK tokenizer inside `TfidfVectorizer` and evaluate a `LinearSVC` on the same train/validation split. This gives an apples-to-apples comparison to the earlier default tokenization."
   ]
  },
  {
   "cell_type": "code",
   "execution_count": 26,
   "id": "52298a1a",
   "metadata": {},
   "outputs": [
    {
     "name": "stdout",
     "output_type": "stream",
     "text": [
      "Train size: 6255\n",
      "Validation size: 894\n",
      "Test size: 1788\n"
     ]
    }
   ],
   "source": [
    "# Prepare multiclass subset (3 classes: positive, negative, neutral)\n",
    "df_multi = df[df[\"sentiment\"].isin([\"positive\", \"negative\", \"neutral\"])].copy()\n",
    "X_multi = df_multi[\"text_clean\"].values\n",
    "y_multi = df_multi[\"sentiment\"].values\n",
    "\n",
    "# Stratified split function (preserves label balance)\n",
    "def stratified_splits(X, y, test_size=0.2, val_size=0.1, seed=SEED):\n",
    "    X_train_val, X_test, y_train_val, y_test = train_test_split(\n",
    "        X, y, test_size=test_size, random_state=seed, stratify=y\n",
    "    )\n",
    "    val_rel = val_size / (1 - test_size)\n",
    "    X_train, X_val, y_train, y_val = train_test_split(\n",
    "        X_train_val, y_train_val, test_size=val_rel, random_state=seed, stratify=y_train_val\n",
    "    )\n",
    "    return X_train, X_val, X_test, y_train, y_val, y_test\n",
    "\n",
    "# Get splits for training, validation, testing\n",
    "Xm_tr, Xm_val, Xm_te, ym_tr, ym_val, ym_te = stratified_splits(X_multi, y_multi)\n",
    "\n",
    "print(\"Train size:\", len(Xm_tr))\n",
    "print(\"Validation size:\", len(Xm_val))\n",
    "print(\"Test size:\", len(Xm_te))\n"
   ]
  },
  {
   "cell_type": "code",
   "execution_count": 27,
   "id": "26166b6d",
   "metadata": {},
   "outputs": [
    {
     "name": "stdout",
     "output_type": "stream",
     "text": [
      "Validation report (Multiclass LinearSVC + NLTK tokenizer):\n",
      "              precision    recall  f1-score   support\n",
      "\n",
      "    negative      0.619     0.228     0.333        57\n",
      "     neutral      0.724     0.824     0.771       539\n",
      "    positive      0.604     0.527     0.563       298\n",
      "\n",
      "    accuracy                          0.687       894\n",
      "   macro avg      0.649     0.526     0.556       894\n",
      "weighted avg      0.677     0.687     0.674       894\n",
      "\n"
     ]
    },
    {
     "data": {
      "image/png": "[encoded data removed]",
      "text/plain": [
       "<Figure size 640x480 with 1 Axes>"
      ]
     },
     "metadata": {},
     "output_type": "display_data"
    }
   ],
   "source": [
    "pipe_svc_nltk = Pipeline([\n",
    "    (\"tfidf\", TfidfVectorizer(tokenizer=nltk_tokenize, preprocessor=None, lowercase=False,\n",
    "                              ngram_range=(1,2), min_df=2)),\n",
    "    (\"clf\", LinearSVC(random_state=SEED))\n",
    "])\n",
    "\n",
    "pipe_svc_nltk.fit(Xm_tr, ym_tr)\n",
    "preds_val_nltk = pipe_svc_nltk.predict(Xm_val)\n",
    "\n",
    "print(\"Validation report (Multiclass LinearSVC + NLTK tokenizer):\")\n",
    "print(classification_report(ym_val, preds_val_nltk, digits=3))\n",
    "\n",
    "cm = confusion_matrix(ym_val, preds_val_nltk, labels=[\"negative\",\"neutral\",\"positive\"])\n",
    "disp = ConfusionMatrixDisplay(confusion_matrix=cm, display_labels=[\"negative\",\"neutral\",\"positive\"])\n",
    "fig, ax = plt.subplots()\n",
    "disp.plot(ax=ax, colorbar=False)\n",
    "plt.title(\"LinearSVC + NLTK Tokenizer (Validation)\")\n",
    "plt.show()"
   ]
  },
  {
   "cell_type": "markdown",
   "id": "4353ca16",
   "metadata": {},
   "source": [
    "This model is identical to the earlier SVM except we feed it NLTK-tokenized text. If macro‑F1 improves or the confusion matrix shows fewer mistakes on **neutral** or **negative**, that suggests the custom tokenization helped capture tweet quirks (like contractions and slang)."
   ]
  },
  {
   "cell_type": "markdown",
   "id": "8ca695f2",
   "metadata": {},
   "source": [
    "## 5. Strategy & Validation Splits\n",
    "\n",
    "Start simple (binary) → then full (multiclass). Use stratified splits to keep label proportions consistent across train/validation/test."
   ]
  },
  {
   "cell_type": "code",
   "execution_count": 28,
   "id": "c4482158",
   "metadata": {},
   "outputs": [
    {
     "name": "stdout",
     "output_type": "stream",
     "text": [
      "Binary sizes (train/val/test): 2483 355 710\n",
      "Multiclass sizes (train/val/test): 6255 894 1788\n"
     ]
    }
   ],
   "source": [
    "# Binary subset (drop neutral)\n",
    "df_bin = df[df[\"sentiment\"].isin([\"positive\", \"negative\"])].copy()\n",
    "X_bin = df_bin[\"text_clean\"].values\n",
    "y_bin = df_bin[\"sentiment\"].values\n",
    "\n",
    "# Multiclass subset (3 classes)\n",
    "df_multi = df[df[\"sentiment\"].isin([\"positive\", \"negative\", \"neutral\"])].copy()\n",
    "X_multi = df_multi[\"text_clean\"].values\n",
    "y_multi = df_multi[\"sentiment\"].values\n",
    "\n",
    "def stratified_splits(X, y, test_size=0.2, val_size=0.1, seed=SEED):\n",
    "    X_train_val, X_test, y_train_val, y_test = train_test_split(\n",
    "        X, y, test_size=test_size, random_state=seed, stratify=y\n",
    "    )\n",
    "    val_rel = val_size / (1 - test_size)\n",
    "    X_train, X_val, y_train, y_val = train_test_split(\n",
    "        X_train_val, y_train_val, test_size=val_rel, random_state=seed, stratify=y_train_val\n",
    "    )\n",
    "    return X_train, X_val, X_test, y_train, y_val, y_test\n",
    "\n",
    "Xb_tr, Xb_val, Xb_te, yb_tr, yb_val, yb_te = stratified_splits(X_bin, y_bin)\n",
    "Xm_tr, Xm_val, Xm_te, ym_tr, ym_val, ym_te = stratified_splits(X_multi, y_multi)\n",
    "\n",
    "print(\"Binary sizes (train/val/test):\", len(Xb_tr), len(Xb_val), len(Xb_te))\n",
    "print(\"Multiclass sizes (train/val/test):\", len(Xm_tr), len(Xm_val), len(Xm_te))"
   ]
  },
  {
   "cell_type": "markdown",
   "id": "3be6bc5d",
   "metadata": {},
   "source": [
    "We created training, validation, and test sets for both the binary and multiclass tasks, preserving the class balance so our evaluations are fair."
   ]
  },
  {
   "cell_type": "markdown",
   "id": "5e9baeaf",
   "metadata": {},
   "source": [
    "### 5.1 Combined Split and NLTK Pipeline Evaluation\n",
    "\n",
    "We combine split and NLTK pipeline for the multifactor evaluation"
   ]
  },
  {
   "cell_type": "code",
   "execution_count": 29,
   "id": "2c9fb6e0",
   "metadata": {},
   "outputs": [
    {
     "name": "stdout",
     "output_type": "stream",
     "text": [
      "Validation report (Multiclass LinearSVC + NLTK tokenizer):\n",
      "              precision    recall  f1-score   support\n",
      "\n",
      "    negative      0.619     0.228     0.333        57\n",
      "     neutral      0.724     0.824     0.771       539\n",
      "    positive      0.604     0.527     0.563       298\n",
      "\n",
      "    accuracy                          0.687       894\n",
      "   macro avg      0.649     0.526     0.556       894\n",
      "weighted avg      0.677     0.687     0.674       894\n",
      "\n"
     ]
    },
    {
     "data": {
      "image/png": "[encoded data removed]",
      "text/plain": [
       "<Figure size 640x480 with 1 Axes>"
      ]
     },
     "metadata": {},
     "output_type": "display_data"
    }
   ],
   "source": [
    "# --- Combined: ensure splits exist, then fit+evaluate the NLTK pipeline ---\n",
    "try:\n",
    "    Xm_tr, Xm_val, Xm_te  # check if defined\n",
    "    ym_tr, ym_val, ym_te\n",
    "except NameError:\n",
    "    # Create multiclass subset & stratified splits if missing\n",
    "    df_multi = df[df[\"sentiment\"].isin([\"positive\", \"negative\", \"neutral\"])].copy()\n",
    "    X_multi = df_multi[\"text_clean\"].values\n",
    "    y_multi = df_multi[\"sentiment\"].values\n",
    "\n",
    "    def stratified_splits(X, y, test_size=0.2, val_size=0.1, seed=SEED):\n",
    "        from sklearn.model_selection import train_test_split\n",
    "        X_train_val, X_test, y_train_val, y_test = train_test_split(\n",
    "            X, y, test_size=test_size, random_state=seed, stratify=y\n",
    "        )\n",
    "        val_rel = val_size / (1 - test_size)\n",
    "        X_train, X_val, y_train, y_val = train_test_split(\n",
    "            X_train_val, y_train_val, test_size=val_rel, random_state=seed, stratify=y_train_val\n",
    "        )\n",
    "        return X_train, X_val, X_test, y_train, y_val, y_test\n",
    "\n",
    "    Xm_tr, Xm_val, Xm_te, ym_tr, ym_val, ym_te = stratified_splits(X_multi, y_multi)\n",
    "\n",
    "# Build and evaluate the NLTK-enabled pipeline\n",
    "pipe_svc_nltk = Pipeline([\n",
    "    (\"tfidf\", TfidfVectorizer(tokenizer=nltk_tokenize, preprocessor=None, lowercase=False,\n",
    "                              ngram_range=(1,2), min_df=2)),\n",
    "    (\"clf\", LinearSVC(random_state=SEED))\n",
    "])\n",
    "\n",
    "pipe_svc_nltk.fit(Xm_tr, ym_tr)\n",
    "preds_val_nltk = pipe_svc_nltk.predict(Xm_val)\n",
    "\n",
    "print(\"Validation report (Multiclass LinearSVC + NLTK tokenizer):\")\n",
    "print(classification_report(ym_val, preds_val_nltk, digits=3))\n",
    "\n",
    "cm = confusion_matrix(ym_val, preds_val_nltk, labels=[\"negative\",\"neutral\",\"positive\"])\n",
    "disp = ConfusionMatrixDisplay(confusion_matrix=cm, display_labels=[\"negative\",\"neutral\",\"positive\"])\n",
    "fig, ax = plt.subplots()\n",
    "disp.plot(ax=ax, colorbar=False)\n",
    "plt.title(\"LinearSVC + NLTK Tokenizer (Validation)\")\n",
    "plt.show()"
   ]
  },
  {
   "cell_type": "markdown",
   "id": "13da4e6a",
   "metadata": {},
   "source": [
    "## 6. Binary Classification (Proof of Concept)\n",
    "\n",
    "Compare two strong baselines using **TF‑IDF** features: Logistic Regression and Multinomial Naive Bayes."
   ]
  },
  {
   "cell_type": "code",
   "execution_count": 30,
   "id": "df835123",
   "metadata": {},
   "outputs": [
    {
     "name": "stdout",
     "output_type": "stream",
     "text": [
      "\n",
      "=== LogReg (Binary) ===\n",
      "              precision    recall  f1-score   support\n",
      "\n",
      "    negative      0.576     0.667     0.618        57\n",
      "    positive      0.934     0.906     0.920       298\n",
      "\n",
      "    accuracy                          0.868       355\n",
      "   macro avg      0.755     0.786     0.769       355\n",
      "weighted avg      0.877     0.868     0.871       355\n",
      "\n"
     ]
    },
    {
     "data": {
      "image/png": "[encoded data removed]",
      "text/plain": [
       "<Figure size 640x480 with 1 Axes>"
      ]
     },
     "metadata": {},
     "output_type": "display_data"
    },
    {
     "name": "stdout",
     "output_type": "stream",
     "text": [
      "\n",
      "=== MultinomialNB (Binary) ===\n",
      "              precision    recall  f1-score   support\n",
      "\n",
      "    negative      1.000     0.105     0.190        57\n",
      "    positive      0.854     1.000     0.921       298\n",
      "\n",
      "    accuracy                          0.856       355\n",
      "   macro avg      0.927     0.553     0.556       355\n",
      "weighted avg      0.877     0.856     0.804       355\n",
      "\n"
     ]
    },
    {
     "data": {
      "image/png": "[encoded data removed]",
      "text/plain": [
       "<Figure size 640x480 with 1 Axes>"
      ]
     },
     "metadata": {},
     "output_type": "display_data"
    }
   ],
   "source": [
    "pipe_log_bin = Pipeline([\n",
    "    (\"tfidf\", TfidfVectorizer(ngram_range=(1,2), min_df=2)),\n",
    "    (\"clf\", LogisticRegression(max_iter=1000, class_weight=\"balanced\", random_state=SEED)),\n",
    "])\n",
    "\n",
    "pipe_nb_bin = Pipeline([\n",
    "    (\"tfidf\", TfidfVectorizer(ngram_range=(1,2), min_df=2)),\n",
    "    (\"clf\", MultinomialNB()),\n",
    "])\n",
    "\n",
    "for name, pipe in [(\"LogReg\", pipe_log_bin), (\"MultinomialNB\", pipe_nb_bin)]:\n",
    "    pipe.fit(Xb_tr, yb_tr)\n",
    "    preds = pipe.predict(Xb_val)\n",
    "    print(f\"\\n=== {name} (Binary) ===\")\n",
    "    print(classification_report(yb_val, preds, digits=3))\n",
    "    cm = confusion_matrix(yb_val, preds, labels=[\"negative\",\"positive\"])\n",
    "    disp = ConfusionMatrixDisplay(confusion_matrix=cm, display_labels=[\"negative\",\"positive\"])\n",
    "    fig, ax = plt.subplots()\n",
    "    disp.plot(ax=ax, colorbar=False)\n",
    "    plt.title(f\"{name} Confusion Matrix (Validation)\")\n",
    "    plt.show()"
   ]
  },
  {
   "cell_type": "markdown",
   "id": "e9a2c0cc",
   "metadata": {},
   "source": [
    "These are our “does the idea work?” models. We learn word patterns with TF‑IDF, then compare two simple classifiers. We examine precision/recall/F1 and where the model gets confused."
   ]
  }
 ],
 "metadata": {
  "kernelspec": {
   "display_name": "Python 3",
   "language": "python",
   "name": "python3"
  },
  "language_info": {
   "codemirror_mode": {
    "name": "ipython",
    "version": 3
   },
   "file_extension": ".py",
   "mimetype": "text/x-python",
   "name": "python",
   "nbconvert_exporter": "python",
   "pygments_lexer": "ipython3",
   "version": "3.13.0"
  }
 },
 "nbformat": 4,
 "nbformat_minor": 5
}
